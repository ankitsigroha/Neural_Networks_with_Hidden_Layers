{
 "cells": [
  {
   "cell_type": "code",
   "execution_count": 1,
   "metadata": {},
   "outputs": [
    {
     "name": "stdout",
     "output_type": "stream",
     "text": [
      "1.13.1\n"
     ]
    }
   ],
   "source": [
    "#https://www.tensorflow.org/tutorials/keras/basic_classification\n",
    "from __future__ import absolute_import, division, print_function\n",
    "\n",
    "# TensorFlow and tf.keras\n",
    "import tensorflow as tf\n",
    "from tensorflow import keras\n",
    "\n",
    "# Helper libraries\n",
    "import numpy as np\n",
    "%matplotlib inline\n",
    "import matplotlib.pyplot as plt\n",
    "#https://stackoverflow.com/questions/53014306/error-15-initializing-libiomp5-dylib-but-found-libiomp5-dylib-already-initial\n",
    "import os\n",
    "\n",
    "os.environ['KMP_DUPLICATE_LIB_OK']='True'\n",
    "\n",
    "print(tf.__version__)"
   ]
  },
  {
   "cell_type": "code",
   "execution_count": 2,
   "metadata": {},
   "outputs": [],
   "source": [
    "mnist = keras.datasets.mnist\n",
    "(train_images, train_labels), (test_images, test_labels) = mnist.load_data()\n",
    "\n",
    "train_images = train_images / 255.0\n",
    "test_images = test_images / 255.0\n",
    "train_data = []\n",
    "test_data = []"
   ]
  },
  {
   "cell_type": "code",
   "execution_count": 3,
   "metadata": {},
   "outputs": [],
   "source": [
    "#function to get data in\n",
    "def get_train_data():\n",
    "    tmp = []\n",
    "    for i in range(10):\n",
    "        c = 0\n",
    "        for index,x in enumerate(train_images):\n",
    "            ans = train_labels[index]\n",
    "            if ans == i:\n",
    "                if c < 100:\n",
    "                    tmp.append(x)\n",
    "                    c+=1\n",
    "    return tmp"
   ]
  },
  {
   "cell_type": "code",
   "execution_count": 4,
   "metadata": {},
   "outputs": [],
   "source": [
    "def train_labels_func():\n",
    "    new_train_labels = []\n",
    "    for i in range(10):\n",
    "        for x in range(100):\n",
    "            new_train_labels.append(i)\n",
    "    return new_train_labels"
   ]
  },
  {
   "cell_type": "code",
   "execution_count": 5,
   "metadata": {},
   "outputs": [],
   "source": [
    "def get_test_data():\n",
    "    tmp = []\n",
    "    for i in range(10):\n",
    "        c = 0\n",
    "        for index,x in enumerate(test_images):\n",
    "            ans = test_labels[index]\n",
    "            if ans == i:\n",
    "                if c < 100:\n",
    "                    tmp.append(x)\n",
    "                    c+=1\n",
    "    return tmp"
   ]
  },
  {
   "cell_type": "code",
   "execution_count": 6,
   "metadata": {},
   "outputs": [],
   "source": [
    "def test_labels_func():\n",
    "    new_test_labels = []\n",
    "    for i in range(10):\n",
    "        for x in range(100):\n",
    "            new_test_labels.append(i)\n",
    "    return new_test_labels"
   ]
  },
  {
   "cell_type": "code",
   "execution_count": 7,
   "metadata": {},
   "outputs": [],
   "source": [
    "for i in range(10):\n",
    "    train_data = (get_train_data())\n",
    "    test_data = (get_test_data())\n",
    "new_test_labels = test_labels_func()\n",
    "new_train_labels = train_labels_func()"
   ]
  },
  {
   "cell_type": "code",
   "execution_count": 8,
   "metadata": {},
   "outputs": [
    {
     "name": "stdout",
     "output_type": "stream",
     "text": [
      "1000 28\n",
      "1000 28\n",
      "1000 1000\n",
      "(1000, 28, 28)\n",
      "(1000, 28, 28)\n",
      "(1000,)\n",
      "(1000,)\n"
     ]
    }
   ],
   "source": [
    "#checking the format of the data so selected\n",
    "print(len(train_data),len(train_data[0]))\n",
    "print(len(test_data),len(test_data[0]))\n",
    "print(len(new_test_labels),len(new_train_labels))\n",
    "\n",
    "\n",
    "train_data = np.asarray(train_data)\n",
    "test_data = np.asarray(test_data)\n",
    "\n",
    "new_test_labels = np.asarray(new_test_labels)\n",
    "new_train_labels = np.asarray(new_train_labels)\n",
    "\n",
    "print(train_data.shape)\n",
    "print(test_data.shape)\n",
    "print(new_train_labels.shape)\n",
    "print(new_test_labels.shape)"
   ]
  },
  {
   "cell_type": "code",
   "execution_count": 9,
   "metadata": {},
   "outputs": [
    {
     "name": "stdout",
     "output_type": "stream",
     "text": [
      "[<tensorflow.python.keras.layers.core.Flatten object at 0xb3cd67978>, <tensorflow.python.keras.layers.core.Dense object at 0xb3cd67c88>, <tensorflow.python.keras.layers.core.Dense object at 0xb3cd67da0>, <tensorflow.python.keras.layers.core.Dense object at 0xb3cd679b0>]\n",
      "WARNING:tensorflow:From /anaconda3/lib/python3.7/site-packages/tensorflow/python/ops/resource_variable_ops.py:435: colocate_with (from tensorflow.python.framework.ops) is deprecated and will be removed in a future version.\n",
      "Instructions for updating:\n",
      "Colocations handled automatically by placer.\n",
      "Train on 1000 samples, validate on 1000 samples\n",
      "Epoch 1/30\n",
      "1000/1000 [==============================] - 1s 856us/sample - loss: 2.3295 - acc: 0.1050 - val_loss: 2.2850 - val_acc: 0.1130\n",
      "Epoch 2/30\n",
      "1000/1000 [==============================] - 0s 364us/sample - loss: 2.2664 - acc: 0.1600 - val_loss: 2.2370 - val_acc: 0.1640\n",
      "Epoch 3/30\n",
      "1000/1000 [==============================] - 1s 541us/sample - loss: 2.1791 - acc: 0.2510 - val_loss: 2.1428 - val_acc: 0.3790\n",
      "Epoch 4/30\n",
      "1000/1000 [==============================] - 0s 363us/sample - loss: 2.0148 - acc: 0.4270 - val_loss: 1.9536 - val_acc: 0.3710\n",
      "Epoch 5/30\n",
      "1000/1000 [==============================] - 0s 365us/sample - loss: 1.7809 - acc: 0.5210 - val_loss: 1.7224 - val_acc: 0.4970\n",
      "Epoch 6/30\n",
      "1000/1000 [==============================] - 0s 365us/sample - loss: 1.5325 - acc: 0.5950 - val_loss: 1.5080 - val_acc: 0.6120\n",
      "Epoch 7/30\n",
      "1000/1000 [==============================] - 0s 364us/sample - loss: 1.3211 - acc: 0.6600 - val_loss: 1.3371 - val_acc: 0.6170\n",
      "Epoch 8/30\n",
      "1000/1000 [==============================] - 1s 553us/sample - loss: 1.1499 - acc: 0.7090 - val_loss: 1.2043 - val_acc: 0.6090\n",
      "Epoch 9/30\n",
      "1000/1000 [==============================] - 0s 379us/sample - loss: 1.0103 - acc: 0.7230 - val_loss: 1.0902 - val_acc: 0.6830\n",
      "Epoch 10/30\n",
      "1000/1000 [==============================] - 0s 389us/sample - loss: 0.8945 - acc: 0.7840 - val_loss: 0.9895 - val_acc: 0.7140\n",
      "Epoch 11/30\n",
      "1000/1000 [==============================] - 0s 380us/sample - loss: 0.7935 - acc: 0.8140 - val_loss: 0.9256 - val_acc: 0.7380\n",
      "Epoch 12/30\n",
      "1000/1000 [==============================] - 0s 371us/sample - loss: 0.7037 - acc: 0.8330 - val_loss: 0.8700 - val_acc: 0.7460\n",
      "Epoch 13/30\n",
      "1000/1000 [==============================] - 1s 549us/sample - loss: 0.6303 - acc: 0.8400 - val_loss: 0.7999 - val_acc: 0.7630\n",
      "Epoch 14/30\n",
      "1000/1000 [==============================] - 0s 361us/sample - loss: 0.5689 - acc: 0.8670 - val_loss: 0.7630 - val_acc: 0.7850\n",
      "Epoch 15/30\n",
      "1000/1000 [==============================] - 0s 361us/sample - loss: 0.5174 - acc: 0.8800 - val_loss: 0.7250 - val_acc: 0.7870\n",
      "Epoch 16/30\n",
      "1000/1000 [==============================] - 0s 361us/sample - loss: 0.4731 - acc: 0.8900 - val_loss: 0.7035 - val_acc: 0.7970\n",
      "Epoch 17/30\n",
      "1000/1000 [==============================] - 0s 375us/sample - loss: 0.4361 - acc: 0.9010 - val_loss: 0.6814 - val_acc: 0.7980\n",
      "Epoch 18/30\n",
      "1000/1000 [==============================] - 1s 544us/sample - loss: 0.3987 - acc: 0.9100 - val_loss: 0.6927 - val_acc: 0.7720\n",
      "Epoch 19/30\n",
      "1000/1000 [==============================] - 0s 362us/sample - loss: 0.3720 - acc: 0.9060 - val_loss: 0.6625 - val_acc: 0.7970\n",
      "Epoch 20/30\n",
      "1000/1000 [==============================] - 0s 383us/sample - loss: 0.3461 - acc: 0.9220 - val_loss: 0.6438 - val_acc: 0.8110\n",
      "Epoch 21/30\n",
      "1000/1000 [==============================] - 0s 381us/sample - loss: 0.3213 - acc: 0.9230 - val_loss: 0.6242 - val_acc: 0.8130\n",
      "Epoch 22/30\n",
      "1000/1000 [==============================] - 0s 369us/sample - loss: 0.2995 - acc: 0.9270 - val_loss: 0.6125 - val_acc: 0.8150\n",
      "Epoch 23/30\n",
      "1000/1000 [==============================] - 0s 364us/sample - loss: 0.2792 - acc: 0.9320 - val_loss: 0.6102 - val_acc: 0.8160\n",
      "Epoch 24/30\n",
      "1000/1000 [==============================] - 1s 539us/sample - loss: 0.2639 - acc: 0.9440 - val_loss: 0.5971 - val_acc: 0.8230\n",
      "Epoch 25/30\n",
      "1000/1000 [==============================] - 0s 362us/sample - loss: 0.2450 - acc: 0.9500 - val_loss: 0.5887 - val_acc: 0.8230\n",
      "Epoch 26/30\n",
      "1000/1000 [==============================] - 0s 363us/sample - loss: 0.2299 - acc: 0.9510 - val_loss: 0.5872 - val_acc: 0.8190\n",
      "Epoch 27/30\n",
      "1000/1000 [==============================] - 0s 366us/sample - loss: 0.2144 - acc: 0.9610 - val_loss: 0.5909 - val_acc: 0.8220\n",
      "Epoch 28/30\n",
      "1000/1000 [==============================] - 0s 362us/sample - loss: 0.2029 - acc: 0.9610 - val_loss: 0.5983 - val_acc: 0.8190\n",
      "Epoch 29/30\n",
      "1000/1000 [==============================] - 1s 544us/sample - loss: 0.1877 - acc: 0.9670 - val_loss: 0.5900 - val_acc: 0.8200\n",
      "Epoch 30/30\n",
      "1000/1000 [==============================] - 0s 363us/sample - loss: 0.1784 - acc: 0.9630 - val_loss: 0.6127 - val_acc: 0.8220\n",
      "1000/1000 [==============================] - 0s 46us/sample - loss: 0.6127 - acc: 0.8220\n",
      "1000/1000 [==============================] - 0s 46us/sample - loss: 0.1671 - acc: 0.9730\n",
      "Test accuracy: 0.822\n",
      "Train accuracy: 0.973\n"
     ]
    }
   ],
   "source": [
    "#defining parameters\n",
    "learning_rate = 0.1\n",
    "batch_size = 10\n",
    "softmax_nodes = 10\n",
    "epochs = 30\n",
    "sigmoid_nodes = 30\n",
    "layers = 2\n",
    "l2 = 0\n",
    "\n",
    "model_data = [\n",
    "keras.layers.Flatten(input_shape=(28, 28)),\n",
    "keras.layers.Dense(sigmoid_nodes,activation=tf.nn.sigmoid,kernel_regularizer=keras.regularizers.l2(l2)),\n",
    "    keras.layers.Dense(sigmoid_nodes, activation=tf.nn.sigmoid)\n",
    "]\n",
    "\n",
    "model_data.append(keras.layers.Dense(softmax_nodes, activation=tf.nn.softmax))\n",
    "print(model_data)\n",
    "model = keras.Sequential(model_data)\n",
    "\n",
    "optimizer = tf.train.GradientDescentOptimizer(learning_rate=learning_rate)\n",
    "model.compile(optimizer,loss='sparse_categorical_crossentropy',metrics=['accuracy'])\n",
    "\n",
    "ans = model.fit(train_data, new_train_labels,validation_data=(test_data, new_test_labels), epochs=epochs,batch_size = batch_size)\n",
    "\n",
    "test_loss, test_acc = model.evaluate(test_data, new_test_labels)\n",
    "train_loss, train_acc = model.evaluate(train_data, new_train_labels)\n",
    "\n",
    "print('Test accuracy:', test_acc)\n",
    "print('Train accuracy:', train_acc)\n"
   ]
  },
  {
   "cell_type": "code",
   "execution_count": 10,
   "metadata": {},
   "outputs": [
    {
     "data": {
      "image/png": "[encoded data removed]",
      "text/plain": [
       "<Figure size 432x288 with 1 Axes>"
      ]
     },
     "metadata": {
      "needs_background": "light"
     },
     "output_type": "display_data"
    },
    {
     "data": {
      "image/png": "[encoded data removed]",
      "text/plain": [
       "<Figure size 432x288 with 1 Axes>"
      ]
     },
     "metadata": {
      "needs_background": "light"
     },
     "output_type": "display_data"
    }
   ],
   "source": [
    "plt.plot(ans.history['acc'])\n",
    "plt.plot(ans.history['val_acc'])\n",
    "plt.title(' Training/testing data accuracy')\n",
    "plt.ylabel('accuracy')\n",
    "plt.xlabel('epoch')\n",
    "plt.legend(['train', 'test'], loc='upper left')\n",
    "plt.show()\n",
    "#summarize history for loss\n",
    "plt.plot(ans.history['loss'])\n",
    "plt.plot(ans.history['val_loss'])\n",
    "plt.title('criterion function on training/testing data set')\n",
    "plt.ylabel('loss')\n",
    "plt.xlabel('epoch')\n",
    "plt.legend(['train', 'test'], loc='upper left')\n",
    "plt.show()"
   ]
  }
 ],
 "metadata": {
  "kernelspec": {
   "display_name": "Python 3",
   "language": "python",
   "name": "python3"
  },
  "language_info": {
   "codemirror_mode": {
    "name": "ipython",
    "version": 3
   },
   "file_extension": ".py",
   "mimetype": "text/x-python",
   "name": "python",
   "nbconvert_exporter": "python",
   "pygments_lexer": "ipython3",
   "version": "3.7.1"
  }
 },
 "nbformat": 4,
 "nbformat_minor": 2
}
