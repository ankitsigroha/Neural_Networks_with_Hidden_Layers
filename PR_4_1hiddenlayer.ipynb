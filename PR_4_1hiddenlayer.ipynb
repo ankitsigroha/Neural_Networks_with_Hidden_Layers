{
 "cells": [
  {
   "cell_type": "code",
   "execution_count": 1,
   "metadata": {},
   "outputs": [
    {
     "name": "stdout",
     "output_type": "stream",
     "text": [
      "1.13.1\n"
     ]
    }
   ],
   "source": [
    "#https://www.tensorflow.org/tutorials/keras/basic_classification\n",
    "from __future__ import absolute_import, division, print_function\n",
    "\n",
    "# TensorFlow and tf.keras\n",
    "import tensorflow as tf\n",
    "from tensorflow import keras\n",
    "\n",
    "# Helper libraries\n",
    "import numpy as np\n",
    "%matplotlib inline\n",
    "import matplotlib.pyplot as plt\n",
    "#https://stackoverflow.com/questions/53014306/error-15-initializing-libiomp5-dylib-but-found-libiomp5-dylib-already-initial\n",
    "import os\n",
    "\n",
    "os.environ['KMP_DUPLICATE_LIB_OK']='True'\n",
    "\n",
    "print(tf.__version__)"
   ]
  },
  {
   "cell_type": "code",
   "execution_count": 2,
   "metadata": {},
   "outputs": [],
   "source": [
    "mnist = keras.datasets.mnist\n",
    "(train_images, train_labels), (test_images, test_labels) = mnist.load_data()\n",
    "\n",
    "train_images = train_images / 255.0\n",
    "test_images = test_images / 255.0\n",
    "train_data = []\n",
    "test_data = []"
   ]
  },
  {
   "cell_type": "code",
   "execution_count": 3,
   "metadata": {},
   "outputs": [],
   "source": [
    "#function to get data in\n",
    "def get_train_data():\n",
    "    tmp = []\n",
    "    for i in range(10):\n",
    "        c = 0\n",
    "        for index,x in enumerate(train_images):\n",
    "            ans = train_labels[index]\n",
    "            if ans == i:\n",
    "                if c < 100:\n",
    "                    tmp.append(x)\n",
    "                    c+=1\n",
    "    return tmp"
   ]
  },
  {
   "cell_type": "code",
   "execution_count": 4,
   "metadata": {},
   "outputs": [],
   "source": [
    "def train_labels_func():\n",
    "    new_train_labels = []\n",
    "    for i in range(10):\n",
    "        for x in range(100):\n",
    "            new_train_labels.append(i)\n",
    "    return new_train_labels"
   ]
  },
  {
   "cell_type": "code",
   "execution_count": 5,
   "metadata": {},
   "outputs": [],
   "source": [
    "def get_test_data():\n",
    "    tmp = []\n",
    "    for i in range(10):\n",
    "        c = 0\n",
    "        for index,x in enumerate(test_images):\n",
    "            ans = test_labels[index]\n",
    "            if ans == i:\n",
    "                if c < 100:\n",
    "                    tmp.append(x)\n",
    "                    c+=1\n",
    "    return tmp"
   ]
  },
  {
   "cell_type": "code",
   "execution_count": 6,
   "metadata": {},
   "outputs": [],
   "source": [
    "def test_labels_func():\n",
    "    new_test_labels = []\n",
    "    for i in range(10):\n",
    "        for x in range(100):\n",
    "            new_test_labels.append(i)\n",
    "    return new_test_labels"
   ]
  },
  {
   "cell_type": "code",
   "execution_count": 7,
   "metadata": {},
   "outputs": [],
   "source": [
    "for i in range(10):\n",
    "    train_data = (get_train_data())\n",
    "    test_data = (get_test_data())\n",
    "new_test_labels = test_labels_func()\n",
    "new_train_labels = train_labels_func()"
   ]
  },
  {
   "cell_type": "code",
   "execution_count": 8,
   "metadata": {},
   "outputs": [
    {
     "name": "stdout",
     "output_type": "stream",
     "text": [
      "1000 28\n",
      "1000 28\n",
      "1000 1000\n",
      "(1000, 28, 28)\n",
      "(1000, 28, 28)\n",
      "(1000,)\n",
      "(1000,)\n"
     ]
    }
   ],
   "source": [
    "#checking the format of the data so selected\n",
    "print(len(train_data),len(train_data[0]))\n",
    "print(len(test_data),len(test_data[0]))\n",
    "print(len(new_test_labels),len(new_train_labels))\n",
    "\n",
    "\n",
    "train_data = np.asarray(train_data)\n",
    "test_data = np.asarray(test_data)\n",
    "\n",
    "new_test_labels = np.asarray(new_test_labels)\n",
    "new_train_labels = np.asarray(new_train_labels)\n",
    "\n",
    "print(train_data.shape)\n",
    "print(test_data.shape)\n",
    "print(new_train_labels.shape)\n",
    "print(new_test_labels.shape)"
   ]
  },
  {
   "cell_type": "code",
   "execution_count": 9,
   "metadata": {},
   "outputs": [
    {
     "name": "stdout",
     "output_type": "stream",
     "text": [
      "[<tensorflow.python.keras.layers.core.Flatten object at 0xb3648d320>, <tensorflow.python.keras.layers.core.Dense object at 0xb3648d6d8>, <tensorflow.python.keras.layers.core.Dense object at 0xb3648d358>]\n",
      "WARNING:tensorflow:From /anaconda3/lib/python3.7/site-packages/tensorflow/python/ops/resource_variable_ops.py:435: colocate_with (from tensorflow.python.framework.ops) is deprecated and will be removed in a future version.\n",
      "Instructions for updating:\n",
      "Colocations handled automatically by placer.\n",
      "Train on 1000 samples, validate on 1000 samples\n",
      "Epoch 1/30\n",
      "1000/1000 [==============================] - 1s 819us/sample - loss: 1.9402 - acc: 0.4340 - val_loss: 1.6637 - val_acc: 0.5320\n",
      "Epoch 2/30\n",
      "1000/1000 [==============================] - 0s 366us/sample - loss: 1.2963 - acc: 0.7440 - val_loss: 1.2191 - val_acc: 0.7270\n",
      "Epoch 3/30\n",
      "1000/1000 [==============================] - 0s 379us/sample - loss: 0.9355 - acc: 0.8260 - val_loss: 0.9813 - val_acc: 0.7390\n",
      "Epoch 4/30\n",
      "1000/1000 [==============================] - 1s 555us/sample - loss: 0.7381 - acc: 0.8450 - val_loss: 0.8422 - val_acc: 0.7810\n",
      "Epoch 5/30\n",
      "1000/1000 [==============================] - 0s 367us/sample - loss: 0.6124 - acc: 0.8820 - val_loss: 0.7534 - val_acc: 0.7940\n",
      "Epoch 6/30\n",
      "1000/1000 [==============================] - 0s 356us/sample - loss: 0.5280 - acc: 0.8930 - val_loss: 0.6829 - val_acc: 0.8050\n",
      "Epoch 7/30\n",
      "1000/1000 [==============================] - 0s 349us/sample - loss: 0.4692 - acc: 0.8980 - val_loss: 0.6483 - val_acc: 0.8100\n",
      "Epoch 8/30\n",
      "1000/1000 [==============================] - 0s 349us/sample - loss: 0.4229 - acc: 0.9030 - val_loss: 0.6078 - val_acc: 0.8230\n",
      "Epoch 9/30\n",
      "1000/1000 [==============================] - 0s 349us/sample - loss: 0.3871 - acc: 0.9130 - val_loss: 0.5831 - val_acc: 0.8210\n",
      "Epoch 10/30\n",
      "1000/1000 [==============================] - 1s 525us/sample - loss: 0.3513 - acc: 0.9190 - val_loss: 0.5649 - val_acc: 0.8250\n",
      "Epoch 11/30\n",
      "1000/1000 [==============================] - 0s 352us/sample - loss: 0.3278 - acc: 0.9250 - val_loss: 0.5566 - val_acc: 0.8290\n",
      "Epoch 12/30\n",
      "1000/1000 [==============================] - 0s 355us/sample - loss: 0.3047 - acc: 0.9280 - val_loss: 0.5369 - val_acc: 0.8280\n",
      "Epoch 13/30\n",
      "1000/1000 [==============================] - 0s 365us/sample - loss: 0.2823 - acc: 0.9390 - val_loss: 0.5221 - val_acc: 0.8390\n",
      "Epoch 14/30\n",
      "1000/1000 [==============================] - 0s 374us/sample - loss: 0.2638 - acc: 0.9450 - val_loss: 0.5078 - val_acc: 0.8360\n",
      "Epoch 15/30\n",
      "1000/1000 [==============================] - 1s 536us/sample - loss: 0.2483 - acc: 0.9500 - val_loss: 0.5054 - val_acc: 0.8380\n",
      "Epoch 16/30\n",
      "1000/1000 [==============================] - 0s 371us/sample - loss: 0.2325 - acc: 0.9560 - val_loss: 0.5077 - val_acc: 0.8360\n",
      "Epoch 17/30\n",
      "1000/1000 [==============================] - 0s 364us/sample - loss: 0.2194 - acc: 0.9580 - val_loss: 0.4898 - val_acc: 0.8480\n",
      "Epoch 18/30\n",
      "1000/1000 [==============================] - 0s 354us/sample - loss: 0.2070 - acc: 0.9600 - val_loss: 0.4877 - val_acc: 0.8520\n",
      "Epoch 19/30\n",
      "1000/1000 [==============================] - 0s 353us/sample - loss: 0.1940 - acc: 0.9630 - val_loss: 0.4898 - val_acc: 0.8450\n",
      "Epoch 20/30\n",
      "1000/1000 [==============================] - 1s 538us/sample - loss: 0.1841 - acc: 0.9620 - val_loss: 0.4765 - val_acc: 0.8560\n",
      "Epoch 21/30\n",
      "1000/1000 [==============================] - 0s 356us/sample - loss: 0.1722 - acc: 0.9690 - val_loss: 0.4817 - val_acc: 0.8460\n",
      "Epoch 22/30\n",
      "1000/1000 [==============================] - 0s 357us/sample - loss: 0.1625 - acc: 0.9730 - val_loss: 0.4800 - val_acc: 0.8470\n",
      "Epoch 23/30\n",
      "1000/1000 [==============================] - 0s 361us/sample - loss: 0.1537 - acc: 0.9750 - val_loss: 0.4725 - val_acc: 0.8540\n",
      "Epoch 24/30\n",
      "1000/1000 [==============================] - 0s 361us/sample - loss: 0.1465 - acc: 0.9760 - val_loss: 0.4691 - val_acc: 0.8540\n",
      "Epoch 25/30\n",
      "1000/1000 [==============================] - 0s 382us/sample - loss: 0.1382 - acc: 0.9790 - val_loss: 0.4671 - val_acc: 0.8550\n",
      "Epoch 26/30\n",
      "1000/1000 [==============================] - 1s 563us/sample - loss: 0.1325 - acc: 0.9770 - val_loss: 0.4678 - val_acc: 0.8540\n",
      "Epoch 27/30\n",
      "1000/1000 [==============================] - 0s 383us/sample - loss: 0.1248 - acc: 0.9850 - val_loss: 0.4678 - val_acc: 0.8510\n",
      "Epoch 28/30\n",
      "1000/1000 [==============================] - 0s 375us/sample - loss: 0.1181 - acc: 0.9860 - val_loss: 0.4717 - val_acc: 0.8520\n",
      "Epoch 29/30\n",
      "1000/1000 [==============================] - 0s 371us/sample - loss: 0.1116 - acc: 0.9870 - val_loss: 0.4707 - val_acc: 0.8490\n",
      "Epoch 30/30\n",
      "1000/1000 [==============================] - 0s 396us/sample - loss: 0.1072 - acc: 0.9870 - val_loss: 0.4712 - val_acc: 0.8500\n",
      "1000/1000 [==============================] - 0s 230us/sample - loss: 0.4712 - acc: 0.8500\n",
      "1000/1000 [==============================] - 0s 46us/sample - loss: 0.0978 - acc: 0.9930\n",
      "Test accuracy: 0.85\n",
      "Train accuracy: 0.993\n"
     ]
    }
   ],
   "source": [
    "#defining parameters\n",
    "learning_rate = 0.1\n",
    "batch_size = 10\n",
    "softmax_nodes = 10\n",
    "epochs = 30\n",
    "sigmoid_nodes = 30\n",
    "layers = 1\n",
    "l2 = 0\n",
    "\n",
    "model_data = [\n",
    "keras.layers.Flatten(input_shape=(28, 28)),\n",
    "keras.layers.Dense(sigmoid_nodes,activation=tf.nn.sigmoid,kernel_regularizer=keras.regularizers.l2(l2)),\n",
    "]\n",
    "\n",
    "model_data.append(keras.layers.Dense(softmax_nodes, activation=tf.nn.softmax))\n",
    "print(model_data)\n",
    "model = keras.Sequential(model_data)\n",
    "\n",
    "optimizer = tf.train.GradientDescentOptimizer(learning_rate=learning_rate)\n",
    "model.compile(optimizer,loss='sparse_categorical_crossentropy',metrics=['accuracy'])\n",
    "\n",
    "ans = model.fit(train_data, new_train_labels,validation_data=(test_data, new_test_labels), epochs=epochs,batch_size = batch_size)\n",
    "\n",
    "test_loss, test_acc = model.evaluate(test_data, new_test_labels)\n",
    "train_loss, train_acc = model.evaluate(train_data, new_train_labels)\n",
    "\n",
    "print('Test accuracy:', test_acc)\n",
    "print('Train accuracy:', train_acc)\n"
   ]
  },
  {
   "cell_type": "code",
   "execution_count": 10,
   "metadata": {},
   "outputs": [
    {
     "data": {
      "image/png": "[encoded data removed]",
      "text/plain": [
       "<Figure size 432x288 with 1 Axes>"
      ]
     },
     "metadata": {
      "needs_background": "light"
     },
     "output_type": "display_data"
    },
    {
     "data": {
      "image/png": "[encoded data removed]",
      "text/plain": [
       "<Figure size 432x288 with 1 Axes>"
      ]
     },
     "metadata": {
      "needs_background": "light"
     },
     "output_type": "display_data"
    }
   ],
   "source": [
    "plt.plot(ans.history['acc'])\n",
    "plt.plot(ans.history['val_acc'])\n",
    "plt.title(' Training/testing data accuracy')\n",
    "plt.ylabel('accuracy')\n",
    "plt.xlabel('epoch')\n",
    "plt.legend(['train', 'test'], loc='upper left')\n",
    "plt.show()\n",
    "#summarize history for loss\n",
    "plt.plot(ans.history['loss'])\n",
    "plt.plot(ans.history['val_loss'])\n",
    "plt.title('criterion function on training/testing data set')\n",
    "plt.ylabel('loss')\n",
    "plt.xlabel('epoch')\n",
    "plt.legend(['train', 'test'], loc='upper left')\n",
    "plt.show()"
   ]
  }
 ],
 "metadata": {
  "kernelspec": {
   "display_name": "Python 3",
   "language": "python",
   "name": "python3"
  },
  "language_info": {
   "codemirror_mode": {
    "name": "ipython",
    "version": 3
   },
   "file_extension": ".py",
   "mimetype": "text/x-python",
   "name": "python",
   "nbconvert_exporter": "python",
   "pygments_lexer": "ipython3",
   "version": "3.7.1"
  }
 },
 "nbformat": 4,
 "nbformat_minor": 2
}
