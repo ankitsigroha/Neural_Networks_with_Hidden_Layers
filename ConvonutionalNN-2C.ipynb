{
 "cells": [
  {
   "cell_type": "code",
   "execution_count": 1,
   "metadata": {},
   "outputs": [
    {
     "name": "stderr",
     "output_type": "stream",
     "text": [
      "Using TensorFlow backend.\n"
     ]
    }
   ],
   "source": [
    "#reference:https://towardsdatascience.com/building-a-convolutional-neural-network-cnn-in-keras-329fbbadc5f5\n",
    "from __future__ import absolute_import, division, print_function\n",
    "from keras.datasets import mnist\n",
    "from keras.layers import Dropout\n",
    "from keras.utils import to_categorical\n",
    "from keras.models import Sequential\n",
    "from keras.layers import Dense, Conv2D, Flatten\n",
    "import tensorflow as tf\n",
    "from tensorflow import keras\n",
    "import numpy as np\n",
    "%matplotlib inline\n",
    "#import matplotlib.pyplot as plt\n",
    "#https://stackoverflow.com/questions/53014306/error-15-initializing-libiomp5-dylib-but-found-libiomp5-dylib-already-initial\n",
    "import os\n",
    "os.environ['KMP_DUPLICATE_LIB_OK']='True'\n",
    "import matplotlib.pyplot as plt\n",
    "from keras.layers.convolutional import MaxPooling2D\n",
    "#loading mnist data\n",
    "\n",
    "mnist = keras.datasets.mnist\n",
    "(train_images, train_labels), (test_images, test_labels) = mnist.load_data()\n",
    "\n",
    "train_images = train_images / 255.0\n",
    "test_images = test_images / 255.0\n",
    "train_data = []\n",
    "test_data = []"
   ]
  },
  {
   "cell_type": "code",
   "execution_count": 2,
   "metadata": {},
   "outputs": [],
   "source": [
    "#function to get data in\n",
    "def get_train_data():\n",
    "    tmp = []\n",
    "    for i in range(10):\n",
    "        c = 0\n",
    "        for index,x in enumerate(train_images):\n",
    "            ans = train_labels[index]\n",
    "            if ans == i:\n",
    "                if c < 100:\n",
    "                    tmp.append(x)\n",
    "                    c+=1\n",
    "    return tmp\n"
   ]
  },
  {
   "cell_type": "code",
   "execution_count": 3,
   "metadata": {},
   "outputs": [],
   "source": [
    "def train_labels_func():\n",
    "    new_train_labels = []\n",
    "    for i in range(10):\n",
    "        for x in range(100):\n",
    "            new_train_labels.append(i)\n",
    "    return new_train_labels"
   ]
  },
  {
   "cell_type": "code",
   "execution_count": 4,
   "metadata": {},
   "outputs": [],
   "source": [
    "def get_test_data():\n",
    "    tmp = []\n",
    "    for i in range(10):\n",
    "        c = 0\n",
    "        for index,x in enumerate(test_images):\n",
    "            ans = test_labels[index]\n",
    "            if ans == i:\n",
    "                if c < 100:\n",
    "                    tmp.append(x)\n",
    "                    c+=1\n",
    "    return tmp"
   ]
  },
  {
   "cell_type": "code",
   "execution_count": 5,
   "metadata": {},
   "outputs": [],
   "source": [
    "def test_labels_func():\n",
    "    new_test_labels = []\n",
    "    for i in range(10):\n",
    "        for x in range(100):\n",
    "            new_test_labels.append(i)\n",
    "    return new_test_labels"
   ]
  },
  {
   "cell_type": "code",
   "execution_count": 6,
   "metadata": {},
   "outputs": [],
   "source": [
    "for i in range(10):\n",
    "    train_data = (get_train_data())\n",
    "    test_data = (get_test_data())\n",
    "new_test_labels = test_labels_func()\n",
    "new_train_labels = train_labels_func()"
   ]
  },
  {
   "cell_type": "code",
   "execution_count": 7,
   "metadata": {},
   "outputs": [
    {
     "name": "stdout",
     "output_type": "stream",
     "text": [
      "1000 28\n",
      "1000 28\n",
      "1000 1000\n",
      "(1000, 28, 28)\n",
      "(1000, 28, 28)\n",
      "(1000,)\n",
      "(1000,)\n"
     ]
    }
   ],
   "source": [
    "#checking the format of the data so selected\n",
    "print(len(train_data),len(train_data[0]))\n",
    "print(len(test_data),len(test_data[0]))\n",
    "print(len(new_test_labels),len(new_train_labels))\n",
    "\n",
    "\n",
    "train_data = np.asarray(train_data)\n",
    "test_data = np.asarray(test_data)\n",
    "\n",
    "new_test_labels = np.asarray(new_test_labels)\n",
    "new_train_labels = np.asarray(new_train_labels)\n",
    "\n",
    "print(train_data.shape)\n",
    "print(test_data.shape)\n",
    "print(new_train_labels.shape)\n",
    "print(new_test_labels.shape)\n",
    "\n",
    "(X_train, y_train), (X_test, y_test) = (train_data,new_train_labels),(test_data,new_test_labels)"
   ]
  },
  {
   "cell_type": "code",
   "execution_count": 8,
   "metadata": {},
   "outputs": [],
   "source": [
    "#reshape data \n",
    "X_train = X_train.reshape(1000,28,28,1)\n",
    "X_test = X_test.reshape(1000,28,28,1)"
   ]
  },
  {
   "cell_type": "code",
   "execution_count": 9,
   "metadata": {},
   "outputs": [],
   "source": [
    "y_train = to_categorical(y_train)\n",
    "y_test = to_categorical(y_test)"
   ]
  },
  {
   "cell_type": "code",
   "execution_count": 10,
   "metadata": {},
   "outputs": [
    {
     "name": "stdout",
     "output_type": "stream",
     "text": [
      "WARNING:tensorflow:From /anaconda3/lib/python3.7/site-packages/tensorflow/python/framework/op_def_library.py:263: colocate_with (from tensorflow.python.framework.ops) is deprecated and will be removed in a future version.\n",
      "Instructions for updating:\n",
      "Colocations handled automatically by placer.\n"
     ]
    }
   ],
   "source": [
    "#without dropout\n",
    "#add model layers\n",
    "model = Sequential()\n",
    "model.add(Conv2D(64, kernel_size=3, activation='relu', input_shape=(28,28,1)))\n",
    "model.add(Conv2D(32, kernel_size=3, activation='relu'))\n",
    "model.add(Flatten())\n",
    "model.add(Dense(10, activation='softmax'))"
   ]
  },
  {
   "cell_type": "code",
   "execution_count": 11,
   "metadata": {},
   "outputs": [],
   "source": [
    "#compile model using accuracy\n",
    "model.compile(optimizer='adam', loss='categorical_crossentropy', metrics=['accuracy'])"
   ]
  },
  {
   "cell_type": "code",
   "execution_count": 12,
   "metadata": {},
   "outputs": [
    {
     "name": "stdout",
     "output_type": "stream",
     "text": [
      "WARNING:tensorflow:From /anaconda3/lib/python3.7/site-packages/tensorflow/python/ops/math_ops.py:3066: to_int32 (from tensorflow.python.ops.math_ops) is deprecated and will be removed in a future version.\n",
      "Instructions for updating:\n",
      "Use tf.cast instead.\n",
      "Train on 1000 samples, validate on 1000 samples\n",
      "Epoch 1/3\n",
      "1000/1000 [==============================] - 4s 4ms/step - loss: 0.8262 - acc: 0.7470 - val_loss: 0.5892 - val_acc: 0.8100\n",
      "Epoch 2/3\n",
      "1000/1000 [==============================] - 3s 3ms/step - loss: 0.2750 - acc: 0.9200 - val_loss: 0.3847 - val_acc: 0.8790\n",
      "Epoch 3/3\n",
      "1000/1000 [==============================] - 3s 3ms/step - loss: 0.0903 - acc: 0.9730 - val_loss: 0.3674 - val_acc: 0.8950\n"
     ]
    },
    {
     "data": {
      "text/plain": [
       "<keras.callbacks.History at 0xb3d089fd0>"
      ]
     },
     "execution_count": 12,
     "metadata": {},
     "output_type": "execute_result"
    }
   ],
   "source": [
    "#train the model\n",
    "model.fit(X_train, y_train, validation_data=(X_test, y_test), epochs=3,batch_size=10)"
   ]
  },
  {
   "cell_type": "markdown",
   "metadata": {},
   "source": [
    "# 2C with dropout"
   ]
  },
  {
   "cell_type": "code",
   "execution_count": 13,
   "metadata": {},
   "outputs": [
    {
     "name": "stdout",
     "output_type": "stream",
     "text": [
      "WARNING:tensorflow:From /anaconda3/lib/python3.7/site-packages/keras/backend/tensorflow_backend.py:3445: calling dropout (from tensorflow.python.ops.nn_ops) with keep_prob is deprecated and will be removed in a future version.\n",
      "Instructions for updating:\n",
      "Please use `rate` instead of `keep_prob`. Rate should be set to `rate = 1 - keep_prob`.\n"
     ]
    }
   ],
   "source": [
    "#without dropout\n",
    "#create model\n",
    "model = Sequential()\n",
    "model.add(Conv2D(64, kernel_size=3, activation='relu', input_shape=(28,28,1)))\n",
    "model.add(Conv2D(32, kernel_size=3, activation='relu'))\n",
    "model.add(Dropout(0.2))\n",
    "model.add(Flatten())\n",
    "model.add(Dense(10, activation='softmax'))"
   ]
  },
  {
   "cell_type": "code",
   "execution_count": 14,
   "metadata": {},
   "outputs": [],
   "source": [
    "model.compile(optimizer='adam', loss='categorical_crossentropy', metrics=['accuracy'])"
   ]
  },
  {
   "cell_type": "code",
   "execution_count": 15,
   "metadata": {},
   "outputs": [
    {
     "name": "stdout",
     "output_type": "stream",
     "text": [
      "Train on 1000 samples, validate on 1000 samples\n",
      "Epoch 1/3\n",
      "1000/1000 [==============================] - 4s 4ms/step - loss: 1.1113 - acc: 0.6740 - val_loss: 0.6203 - val_acc: 0.7990\n",
      "Epoch 2/3\n",
      "1000/1000 [==============================] - 3s 3ms/step - loss: 0.3733 - acc: 0.8870 - val_loss: 0.4636 - val_acc: 0.8450\n",
      "Epoch 3/3\n",
      "1000/1000 [==============================] - 3s 3ms/step - loss: 0.2149 - acc: 0.9410 - val_loss: 0.4851 - val_acc: 0.8420\n"
     ]
    },
    {
     "data": {
      "text/plain": [
       "<keras.callbacks.History at 0x1081f61d0>"
      ]
     },
     "execution_count": 15,
     "metadata": {},
     "output_type": "execute_result"
    }
   ],
   "source": [
    "model.fit(X_train, y_train, validation_data=(X_test, y_test), epochs=3)"
   ]
  },
  {
   "cell_type": "markdown",
   "metadata": {},
   "source": [
    "# 2C with Augmentation"
   ]
  },
  {
   "cell_type": "code",
   "execution_count": 16,
   "metadata": {},
   "outputs": [],
   "source": [
    "from __future__ import absolute_import, division, print_function\n",
    "\n",
    "# TensorFlow and tf.keras\n",
    "import tensorflow as tf\n",
    "from tensorflow import keras\n",
    "\n",
    "# Helper libraries\n",
    "import numpy as np\n",
    "import matplotlib.pyplot as plt\n",
    "\n",
    "mnist = keras.datasets.mnist\n",
    "train_images = train_images / 255.0\n",
    "test_images = test_images / 255.0"
   ]
  },
  {
   "cell_type": "code",
   "execution_count": 17,
   "metadata": {},
   "outputs": [],
   "source": [
    "X_train = train_data\n",
    "y_train = new_train_labels\n",
    "\n",
    "X_test = test_data\n",
    "y_test = new_train_labels\n",
    "\n",
    "X_train= X_train.reshape(X_train.shape[0], 28, 28, 1)\n",
    "X_train = X_train.astype('float32')\n",
    "\n",
    "X_test = X_test.reshape(X_test.shape[0],28,28,1)\n",
    "X_test = X_test.astype('float32')"
   ]
  },
  {
   "cell_type": "code",
   "execution_count": 18,
   "metadata": {},
   "outputs": [],
   "source": [
    "from  keras.utils import np_utils\n",
    "y_train = np_utils.to_categorical(y_train)\n",
    "y_test= np_utils.to_categorical(y_test)"
   ]
  },
  {
   "cell_type": "code",
   "execution_count": 19,
   "metadata": {},
   "outputs": [
    {
     "name": "stdout",
     "output_type": "stream",
     "text": [
      "_________________________________________________________________\n",
      "Layer (type)                 Output Shape              Param #   \n",
      "=================================================================\n",
      "conv2d_5 (Conv2D)            (None, 26, 26, 32)        320       \n",
      "_________________________________________________________________\n",
      "activation_1 (Activation)    (None, 26, 26, 32)        0         \n",
      "_________________________________________________________________\n",
      "conv2d_6 (Conv2D)            (None, 24, 24, 32)        9248      \n",
      "_________________________________________________________________\n",
      "activation_2 (Activation)    (None, 24, 24, 32)        0         \n",
      "_________________________________________________________________\n",
      "max_pooling2d_1 (MaxPooling2 (None, 12, 12, 32)        0         \n",
      "_________________________________________________________________\n",
      "conv2d_7 (Conv2D)            (None, 10, 10, 64)        18496     \n",
      "_________________________________________________________________\n",
      "activation_3 (Activation)    (None, 10, 10, 64)        0         \n",
      "_________________________________________________________________\n",
      "conv2d_8 (Conv2D)            (None, 8, 8, 64)          36928     \n",
      "_________________________________________________________________\n",
      "activation_4 (Activation)    (None, 8, 8, 64)          0         \n",
      "_________________________________________________________________\n",
      "max_pooling2d_2 (MaxPooling2 (None, 4, 4, 64)          0         \n",
      "_________________________________________________________________\n",
      "flatten_3 (Flatten)          (None, 1024)              0         \n",
      "_________________________________________________________________\n",
      "dense_3 (Dense)              (None, 512)               524800    \n",
      "_________________________________________________________________\n",
      "activation_5 (Activation)    (None, 512)               0         \n",
      "_________________________________________________________________\n",
      "dropout_2 (Dropout)          (None, 512)               0         \n",
      "_________________________________________________________________\n",
      "dense_4 (Dense)              (None, 10)                5130      \n",
      "_________________________________________________________________\n",
      "activation_6 (Activation)    (None, 10)                0         \n",
      "=================================================================\n",
      "Total params: 594,922\n",
      "Trainable params: 594,922\n",
      "Non-trainable params: 0\n",
      "_________________________________________________________________\n"
     ]
    }
   ],
   "source": [
    "from keras.models import Sequential\n",
    "classifier = Sequential()\n",
    "from keras.layers import Dense, Dropout, Activation, Flatten, MaxPool2D\n",
    "from keras.layers import Conv2D, BatchNormalization\n",
    "\n",
    "classifier.add(Conv2D(32, (3,3), input_shape=(28,28,1)))\n",
    "BatchNormalization(axis=-1) #Axis -1 is always the features axis\n",
    "classifier.add(Activation('relu'))\n",
    "\n",
    "classifier.add(Conv2D(32, (3,3)))\n",
    "BatchNormalization(axis=-1)\n",
    "classifier.add(Activation('relu'))\n",
    "classifier.add(MaxPool2D(pool_size=(2,2)))\n",
    "\n",
    "BatchNormalization(axis=-1)\n",
    "\n",
    "classifier.add(Conv2D(64, (3,3)))\n",
    "BatchNormalization(axis=-1)\n",
    "classifier.add(Activation('relu'))\n",
    "\n",
    "classifier.add(Conv2D(64, (3,3)))\n",
    "classifier.add(Activation('relu'))\n",
    "classifier.add(MaxPool2D(pool_size=(2,2)))\n",
    "\n",
    "classifier.add(Flatten())\n",
    "BatchNormalization()\n",
    "\n",
    "classifier.add(Dense(512))\n",
    "BatchNormalization()\n",
    "classifier.add(Activation('relu'))\n",
    "\n",
    "classifier.add(Dropout(0.2))\n",
    "classifier.add(Dense(10))\n",
    "classifier.add(Activation('softmax'))\n",
    "\n",
    "classifier.summary()"
   ]
  },
  {
   "cell_type": "code",
   "execution_count": 20,
   "metadata": {},
   "outputs": [],
   "source": [
    "classifier.compile(optimizer='adam', loss='categorical_crossentropy', metrics=['accuracy'])\n",
    "\n",
    "from keras.preprocessing.image import ImageDataGenerator\n",
    "\n",
    "# applying transformation to image\n",
    "#https://software.intel.com/en-us/articles/hands-on-ai-part-14-image-data-preprocessing-and-augmentation\n",
    "train_gen = ImageDataGenerator(rotation_range=3, \n",
    "                               width_shift_range=3, \n",
    "                               #shear_range=0.3, \n",
    "                               height_shift_range=3)#, \n",
    "                               #zoom_range=0.08 )\n",
    "test_gen = ImageDataGenerator()"
   ]
  },
  {
   "cell_type": "code",
   "execution_count": 21,
   "metadata": {},
   "outputs": [
    {
     "name": "stdout",
     "output_type": "stream",
     "text": [
      "Epoch 1/30\n",
      "10/10 [==============================] - 4s 364ms/step - loss: 2.1899 - acc: 0.2281 - val_loss: 1.7788 - val_acc: 0.5594\n",
      "Epoch 2/30\n",
      "10/10 [==============================] - 2s 162ms/step - loss: 1.3173 - acc: 0.5981 - val_loss: 1.1802 - val_acc: 0.6104\n",
      "Epoch 3/30\n",
      "10/10 [==============================] - 2s 177ms/step - loss: 1.0405 - acc: 0.6719 - val_loss: 0.9236 - val_acc: 0.6984\n",
      "Epoch 4/30\n",
      "10/10 [==============================] - 2s 170ms/step - loss: 0.7708 - acc: 0.7531 - val_loss: 0.7728 - val_acc: 0.7419\n",
      "Epoch 5/30\n",
      "10/10 [==============================] - 2s 172ms/step - loss: 0.5746 - acc: 0.8033 - val_loss: 0.6128 - val_acc: 0.8133\n",
      "Epoch 6/30\n",
      "10/10 [==============================] - 2s 173ms/step - loss: 0.3897 - acc: 0.8875 - val_loss: 0.5290 - val_acc: 0.8250\n",
      "Epoch 7/30\n",
      "10/10 [==============================] - 2s 165ms/step - loss: 0.3983 - acc: 0.8811 - val_loss: 0.4621 - val_acc: 0.8442\n",
      "Epoch 8/30\n",
      "10/10 [==============================] - 2s 171ms/step - loss: 0.2958 - acc: 0.9064 - val_loss: 0.4149 - val_acc: 0.8782\n",
      "Epoch 9/30\n",
      "10/10 [==============================] - 2s 173ms/step - loss: 0.2992 - acc: 0.9187 - val_loss: 0.3155 - val_acc: 0.8984\n",
      "Epoch 10/30\n",
      "10/10 [==============================] - 2s 177ms/step - loss: 0.1887 - acc: 0.9401 - val_loss: 0.3951 - val_acc: 0.8620\n",
      "Epoch 11/30\n",
      "10/10 [==============================] - 2s 168ms/step - loss: 0.2220 - acc: 0.9281 - val_loss: 0.3624 - val_acc: 0.8781\n",
      "Epoch 12/30\n",
      "10/10 [==============================] - 2s 162ms/step - loss: 0.2319 - acc: 0.9340 - val_loss: 0.3323 - val_acc: 0.9075\n",
      "Epoch 13/30\n",
      "10/10 [==============================] - 2s 166ms/step - loss: 0.1777 - acc: 0.9450 - val_loss: 0.2773 - val_acc: 0.9156\n",
      "Epoch 14/30\n",
      "10/10 [==============================] - 2s 173ms/step - loss: 0.2070 - acc: 0.9359 - val_loss: 0.3477 - val_acc: 0.8984\n",
      "Epoch 15/30\n",
      "10/10 [==============================] - 2s 164ms/step - loss: 0.1479 - acc: 0.9520 - val_loss: 0.3134 - val_acc: 0.9221\n",
      "Epoch 16/30\n",
      "10/10 [==============================] - 2s 167ms/step - loss: 0.1275 - acc: 0.9647 - val_loss: 0.2858 - val_acc: 0.9026\n",
      "Epoch 17/30\n",
      "10/10 [==============================] - 2s 165ms/step - loss: 0.1328 - acc: 0.9625 - val_loss: 0.2090 - val_acc: 0.9328\n",
      "Epoch 18/30\n",
      "10/10 [==============================] - 2s 163ms/step - loss: 0.0904 - acc: 0.9756 - val_loss: 0.2729 - val_acc: 0.9286\n",
      "Epoch 19/30\n",
      "10/10 [==============================] - 2s 174ms/step - loss: 0.1713 - acc: 0.9563 - val_loss: 0.2288 - val_acc: 0.9266\n",
      "Epoch 20/30\n",
      "10/10 [==============================] - 2s 166ms/step - loss: 0.1098 - acc: 0.9685 - val_loss: 0.2980 - val_acc: 0.9042\n",
      "Epoch 21/30\n",
      "10/10 [==============================] - 2s 160ms/step - loss: 0.1148 - acc: 0.9568 - val_loss: 0.1602 - val_acc: 0.9464\n",
      "Epoch 22/30\n",
      "10/10 [==============================] - 2s 179ms/step - loss: 0.1075 - acc: 0.9656 - val_loss: 0.2419 - val_acc: 0.9266\n",
      "Epoch 23/30\n",
      "10/10 [==============================] - 2s 165ms/step - loss: 0.1106 - acc: 0.9647 - val_loss: 0.2724 - val_acc: 0.9091\n",
      "Epoch 24/30\n",
      "10/10 [==============================] - 2s 171ms/step - loss: 0.1004 - acc: 0.9669 - val_loss: 0.2280 - val_acc: 0.9269\n",
      "Epoch 25/30\n",
      "10/10 [==============================] - 2s 167ms/step - loss: 0.0864 - acc: 0.9750 - val_loss: 0.2820 - val_acc: 0.9187\n",
      "Epoch 26/30\n",
      "10/10 [==============================] - 2s 159ms/step - loss: 0.0909 - acc: 0.9772 - val_loss: 0.1876 - val_acc: 0.9318\n",
      "Epoch 27/30\n",
      "10/10 [==============================] - 2s 169ms/step - loss: 0.1052 - acc: 0.9703 - val_loss: 0.1895 - val_acc: 0.9391\n",
      "Epoch 28/30\n",
      "10/10 [==============================] - 2s 163ms/step - loss: 0.0647 - acc: 0.9772 - val_loss: 0.2335 - val_acc: 0.9302\n",
      "Epoch 29/30\n",
      "10/10 [==============================] - 2s 160ms/step - loss: 0.0639 - acc: 0.9772 - val_loss: 0.1983 - val_acc: 0.9334\n",
      "Epoch 30/30\n",
      "10/10 [==============================] - 2s 163ms/step - loss: 0.0538 - acc: 0.9859 - val_loss: 0.2113 - val_acc: 0.9406\n"
     ]
    }
   ],
   "source": [
    "training_set= train_gen.flow(X_train, y_train, batch_size=64)\n",
    "test_set= train_gen.flow(X_test, y_test, batch_size=64)\n",
    "\n",
    "ans = classifier.fit_generator(training_set, \n",
    "                         steps_per_epoch=10, \n",
    "                         validation_data= test_set, \n",
    "                         validation_steps=10, \n",
    "                         epochs=30)"
   ]
  },
  {
   "cell_type": "code",
   "execution_count": null,
   "metadata": {},
   "outputs": [],
   "source": []
  }
 ],
 "metadata": {
  "kernelspec": {
   "display_name": "Python 3",
   "language": "python",
   "name": "python3"
  },
  "language_info": {
   "codemirror_mode": {
    "name": "ipython",
    "version": 3
   },
   "file_extension": ".py",
   "mimetype": "text/x-python",
   "name": "python",
   "nbconvert_exporter": "python",
   "pygments_lexer": "ipython3",
   "version": "3.7.1"
  }
 },
 "nbformat": 4,
 "nbformat_minor": 2
}
