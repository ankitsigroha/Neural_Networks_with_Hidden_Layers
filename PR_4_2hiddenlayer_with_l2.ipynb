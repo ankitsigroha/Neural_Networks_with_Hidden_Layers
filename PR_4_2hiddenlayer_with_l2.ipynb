{
 "cells": [
  {
   "cell_type": "code",
   "execution_count": 1,
   "metadata": {},
   "outputs": [
    {
     "name": "stdout",
     "output_type": "stream",
     "text": [
      "1.13.1\n"
     ]
    }
   ],
   "source": [
    "#https://www.tensorflow.org/tutorials/keras/basic_classification\n",
    "from __future__ import absolute_import, division, print_function\n",
    "\n",
    "# TensorFlow and tf.keras\n",
    "import tensorflow as tf\n",
    "from tensorflow import keras\n",
    "\n",
    "# Helper libraries\n",
    "import numpy as np\n",
    "%matplotlib inline\n",
    "import matplotlib.pyplot as plt\n",
    "#https://stackoverflow.com/questions/53014306/error-15-initializing-libiomp5-dylib-but-found-libiomp5-dylib-already-initial\n",
    "import os\n",
    "\n",
    "os.environ['KMP_DUPLICATE_LIB_OK']='True'\n",
    "\n",
    "print(tf.__version__)"
   ]
  },
  {
   "cell_type": "code",
   "execution_count": 2,
   "metadata": {},
   "outputs": [],
   "source": [
    "mnist = keras.datasets.mnist\n",
    "(train_images, train_labels), (test_images, test_labels) = mnist.load_data()\n",
    "\n",
    "train_images = train_images / 255.0\n",
    "test_images = test_images / 255.0\n",
    "train_data = []\n",
    "test_data = []"
   ]
  },
  {
   "cell_type": "code",
   "execution_count": 3,
   "metadata": {},
   "outputs": [],
   "source": [
    "#function to get data in\n",
    "def get_train_data():\n",
    "    tmp = []\n",
    "    for i in range(10):\n",
    "        c = 0\n",
    "        for index,x in enumerate(train_images):\n",
    "            ans = train_labels[index]\n",
    "            if ans == i:\n",
    "                if c < 100:\n",
    "                    tmp.append(x)\n",
    "                    c+=1\n",
    "    return tmp"
   ]
  },
  {
   "cell_type": "code",
   "execution_count": 4,
   "metadata": {},
   "outputs": [],
   "source": [
    "def train_labels_func():\n",
    "    new_train_labels = []\n",
    "    for i in range(10):\n",
    "        for x in range(100):\n",
    "            new_train_labels.append(i)\n",
    "    return new_train_labels"
   ]
  },
  {
   "cell_type": "code",
   "execution_count": 5,
   "metadata": {},
   "outputs": [],
   "source": [
    "def get_test_data():\n",
    "    tmp = []\n",
    "    for i in range(10):\n",
    "        c = 0\n",
    "        for index,x in enumerate(test_images):\n",
    "            ans = test_labels[index]\n",
    "            if ans == i:\n",
    "                if c < 100:\n",
    "                    tmp.append(x)\n",
    "                    c+=1\n",
    "    return tmp"
   ]
  },
  {
   "cell_type": "code",
   "execution_count": 6,
   "metadata": {},
   "outputs": [],
   "source": [
    "def test_labels_func():\n",
    "    new_test_labels = []\n",
    "    for i in range(10):\n",
    "        for x in range(100):\n",
    "            new_test_labels.append(i)\n",
    "    return new_test_labels"
   ]
  },
  {
   "cell_type": "code",
   "execution_count": 7,
   "metadata": {},
   "outputs": [],
   "source": [
    "for i in range(10):\n",
    "    train_data = (get_train_data())\n",
    "    test_data = (get_test_data())\n",
    "new_test_labels = test_labels_func()\n",
    "new_train_labels = train_labels_func()"
   ]
  },
  {
   "cell_type": "code",
   "execution_count": 8,
   "metadata": {},
   "outputs": [
    {
     "name": "stdout",
     "output_type": "stream",
     "text": [
      "1000 28\n",
      "1000 28\n",
      "1000 1000\n",
      "(1000, 28, 28)\n",
      "(1000, 28, 28)\n",
      "(1000,)\n",
      "(1000,)\n"
     ]
    }
   ],
   "source": [
    "#checking the format of the data so selected\n",
    "print(len(train_data),len(train_data[0]))\n",
    "print(len(test_data),len(test_data[0]))\n",
    "print(len(new_test_labels),len(new_train_labels))\n",
    "\n",
    "\n",
    "train_data = np.asarray(train_data)\n",
    "test_data = np.asarray(test_data)\n",
    "\n",
    "new_test_labels = np.asarray(new_test_labels)\n",
    "new_train_labels = np.asarray(new_train_labels)\n",
    "\n",
    "print(train_data.shape)\n",
    "print(test_data.shape)\n",
    "print(new_train_labels.shape)\n",
    "print(new_test_labels.shape)"
   ]
  },
  {
   "cell_type": "code",
   "execution_count": 9,
   "metadata": {},
   "outputs": [
    {
     "name": "stdout",
     "output_type": "stream",
     "text": [
      "[<tensorflow.python.keras.layers.core.Flatten object at 0xb36c73978>, <tensorflow.python.keras.layers.core.Dense object at 0xb36c73cc0>, <tensorflow.python.keras.layers.core.Dense object at 0xb36c73e48>, <tensorflow.python.keras.layers.core.Dense object at 0xb36c739b0>]\n",
      "WARNING:tensorflow:From /anaconda3/lib/python3.7/site-packages/tensorflow/python/ops/resource_variable_ops.py:435: colocate_with (from tensorflow.python.framework.ops) is deprecated and will be removed in a future version.\n",
      "Instructions for updating:\n",
      "Colocations handled automatically by placer.\n",
      "Train on 1000 samples, validate on 1000 samples\n",
      "Epoch 1/30\n",
      "1000/1000 [==============================] - 1s 1ms/sample - loss: 6.6972 - acc: 0.0970 - val_loss: 2.3167 - val_acc: 0.1000\n",
      "Epoch 2/30\n",
      "1000/1000 [==============================] - 0s 428us/sample - loss: 2.3311 - acc: 0.0780 - val_loss: 2.3222 - val_acc: 0.1000\n",
      "Epoch 3/30\n",
      "1000/1000 [==============================] - 0s 410us/sample - loss: 2.3274 - acc: 0.1010 - val_loss: 2.3268 - val_acc: 0.1000\n",
      "Epoch 4/30\n",
      "1000/1000 [==============================] - 0s 405us/sample - loss: 2.3336 - acc: 0.0820 - val_loss: 2.3154 - val_acc: 0.1000\n",
      "Epoch 5/30\n",
      "1000/1000 [==============================] - 1s 580us/sample - loss: 2.3238 - acc: 0.0940 - val_loss: 2.3347 - val_acc: 0.1000\n",
      "Epoch 6/30\n",
      "1000/1000 [==============================] - 0s 410us/sample - loss: 2.3315 - acc: 0.0980 - val_loss: 2.3258 - val_acc: 0.1000\n",
      "Epoch 7/30\n",
      "1000/1000 [==============================] - 0s 426us/sample - loss: 2.3287 - acc: 0.1000 - val_loss: 2.3140 - val_acc: 0.1000\n",
      "Epoch 8/30\n",
      "1000/1000 [==============================] - 0s 422us/sample - loss: 2.3266 - acc: 0.0980 - val_loss: 2.3257 - val_acc: 0.1000\n",
      "Epoch 9/30\n",
      "1000/1000 [==============================] - 1s 596us/sample - loss: 2.3307 - acc: 0.0910 - val_loss: 2.3155 - val_acc: 0.1000\n",
      "Epoch 10/30\n",
      "1000/1000 [==============================] - 0s 411us/sample - loss: 2.3278 - acc: 0.0840 - val_loss: 2.3340 - val_acc: 0.1000\n",
      "Epoch 11/30\n",
      "1000/1000 [==============================] - 0s 402us/sample - loss: 2.3273 - acc: 0.1000 - val_loss: 2.3225 - val_acc: 0.1000\n",
      "Epoch 12/30\n",
      "1000/1000 [==============================] - 0s 401us/sample - loss: 2.3319 - acc: 0.0990 - val_loss: 2.3196 - val_acc: 0.1000\n",
      "Epoch 13/30\n",
      "1000/1000 [==============================] - 0s 416us/sample - loss: 2.3311 - acc: 0.1010 - val_loss: 2.3170 - val_acc: 0.1000\n",
      "Epoch 14/30\n",
      "1000/1000 [==============================] - 1s 600us/sample - loss: 2.3291 - acc: 0.0810 - val_loss: 2.3217 - val_acc: 0.1000\n",
      "Epoch 15/30\n",
      "1000/1000 [==============================] - 0s 431us/sample - loss: 2.3294 - acc: 0.0980 - val_loss: 2.3255 - val_acc: 0.1000\n",
      "Epoch 16/30\n",
      "1000/1000 [==============================] - 0s 421us/sample - loss: 2.3275 - acc: 0.0960 - val_loss: 2.3249 - val_acc: 0.1000\n",
      "Epoch 17/30\n",
      "1000/1000 [==============================] - 0s 415us/sample - loss: 2.3268 - acc: 0.0980 - val_loss: 2.3182 - val_acc: 0.1000\n",
      "Epoch 18/30\n",
      "1000/1000 [==============================] - 0s 407us/sample - loss: 2.3292 - acc: 0.1030 - val_loss: 2.3179 - val_acc: 0.1000\n",
      "Epoch 19/30\n",
      "1000/1000 [==============================] - 1s 587us/sample - loss: 2.3286 - acc: 0.0870 - val_loss: 2.3165 - val_acc: 0.1000\n",
      "Epoch 20/30\n",
      "1000/1000 [==============================] - 0s 418us/sample - loss: 2.3273 - acc: 0.0940 - val_loss: 2.3179 - val_acc: 0.1000\n",
      "Epoch 21/30\n",
      "1000/1000 [==============================] - 0s 421us/sample - loss: 2.3268 - acc: 0.0980 - val_loss: 2.3154 - val_acc: 0.1000\n",
      "Epoch 22/30\n",
      "1000/1000 [==============================] - 0s 435us/sample - loss: 2.3245 - acc: 0.1000 - val_loss: 2.3270 - val_acc: 0.1000\n",
      "Epoch 23/30\n",
      "1000/1000 [==============================] - 1s 588us/sample - loss: 2.3282 - acc: 0.1000 - val_loss: 2.3162 - val_acc: 0.1000\n",
      "Epoch 24/30\n",
      "1000/1000 [==============================] - 0s 417us/sample - loss: 2.3270 - acc: 0.0850 - val_loss: 2.3112 - val_acc: 0.1000\n",
      "Epoch 25/30\n",
      "1000/1000 [==============================] - 0s 405us/sample - loss: 2.3253 - acc: 0.0940 - val_loss: 2.3167 - val_acc: 0.1000\n",
      "Epoch 26/30\n",
      "1000/1000 [==============================] - 0s 444us/sample - loss: 2.3302 - acc: 0.0840 - val_loss: 2.3114 - val_acc: 0.1000\n",
      "Epoch 27/30\n",
      "1000/1000 [==============================] - 0s 439us/sample - loss: 2.3286 - acc: 0.0750 - val_loss: 2.3226 - val_acc: 0.1000\n",
      "Epoch 28/30\n",
      "1000/1000 [==============================] - 1s 602us/sample - loss: 2.3273 - acc: 0.1010 - val_loss: 2.3181 - val_acc: 0.1000\n",
      "Epoch 29/30\n",
      "1000/1000 [==============================] - 0s 416us/sample - loss: 2.3296 - acc: 0.0900 - val_loss: 2.3185 - val_acc: 0.1000\n",
      "Epoch 30/30\n",
      "1000/1000 [==============================] - 0s 411us/sample - loss: 2.3315 - acc: 0.0710 - val_loss: 2.3120 - val_acc: 0.1000\n",
      "1000/1000 [==============================] - 0s 48us/sample - loss: 2.3120 - acc: 0.1000\n",
      "1000/1000 [==============================] - 0s 49us/sample - loss: 2.3120 - acc: 0.1000\n",
      "Test accuracy: 0.1\n",
      "Train accuracy: 0.1\n"
     ]
    }
   ],
   "source": [
    "#defining parameters\n",
    "learning_rate = 0.1\n",
    "batch_size = 10\n",
    "softmax_nodes = 10\n",
    "epochs = 30\n",
    "sigmoid_nodes = 30\n",
    "layers = 2\n",
    "l2 = 5\n",
    "\n",
    "model_data = [\n",
    "keras.layers.Flatten(input_shape=(28, 28)),\n",
    "keras.layers.Dense(sigmoid_nodes,activation=tf.nn.sigmoid,kernel_regularizer=keras.regularizers.l2(l2)),\n",
    "    keras.layers.Dense(sigmoid_nodes, activation=tf.nn.sigmoid,kernel_regularizer=keras.regularizers.l2(l2))\n",
    "]\n",
    "\n",
    "model_data.append(keras.layers.Dense(softmax_nodes, activation=tf.nn.softmax))\n",
    "print(model_data)\n",
    "model = keras.Sequential(model_data)\n",
    "\n",
    "optimizer = tf.train.GradientDescentOptimizer(learning_rate=learning_rate)\n",
    "model.compile(optimizer,loss='sparse_categorical_crossentropy',metrics=['accuracy'])\n",
    "\n",
    "ans = model.fit(train_data, new_train_labels,validation_data=(test_data, new_test_labels), epochs=epochs,batch_size = batch_size)\n",
    "\n",
    "test_loss, test_acc = model.evaluate(test_data, new_test_labels)\n",
    "train_loss, train_acc = model.evaluate(train_data, new_train_labels)\n",
    "\n",
    "print('Test accuracy:', test_acc)\n",
    "print('Train accuracy:', train_acc)\n"
   ]
  },
  {
   "cell_type": "code",
   "execution_count": 10,
   "metadata": {},
   "outputs": [
    {
     "data": {
      "image/png": "[encoded data removed]",
      "text/plain": [
       "<Figure size 432x288 with 1 Axes>"
      ]
     },
     "metadata": {
      "needs_background": "light"
     },
     "output_type": "display_data"
    },
    {
     "data": {
      "image/png": "[encoded data removed]",
      "text/plain": [
       "<Figure size 432x288 with 1 Axes>"
      ]
     },
     "metadata": {
      "needs_background": "light"
     },
     "output_type": "display_data"
    }
   ],
   "source": [
    "plt.plot(ans.history['acc'])\n",
    "plt.plot(ans.history['val_acc'])\n",
    "plt.title(' Training/testing data accuracy')\n",
    "plt.ylabel('accuracy')\n",
    "plt.xlabel('epoch')\n",
    "plt.legend(['train', 'test'], loc='upper left')\n",
    "plt.show()\n",
    "#summarize history for loss\n",
    "plt.plot(ans.history['loss'])\n",
    "plt.plot(ans.history['val_loss'])\n",
    "plt.title('criterion function on training/testing data set')\n",
    "plt.ylabel('loss')\n",
    "plt.xlabel('epoch')\n",
    "plt.legend(['train', 'test'], loc='upper left')\n",
    "plt.show()"
   ]
  }
 ],
 "metadata": {
  "kernelspec": {
   "display_name": "Python 3",
   "language": "python",
   "name": "python3"
  },
  "language_info": {
   "codemirror_mode": {
    "name": "ipython",
    "version": 3
   },
   "file_extension": ".py",
   "mimetype": "text/x-python",
   "name": "python",
   "nbconvert_exporter": "python",
   "pygments_lexer": "ipython3",
   "version": "3.7.1"
  }
 },
 "nbformat": 4,
 "nbformat_minor": 2
}
