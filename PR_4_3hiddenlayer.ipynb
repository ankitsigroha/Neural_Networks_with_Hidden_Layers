 {
 "cells": [
  {
   "cell_type": "code",
   "execution_count": 1,
   "metadata": {},
   "outputs": [
    {
     "name": "stdout",
     "output_type": "stream",
     "text": [
      "1.13.1\n"
     ]
    }
   ],
   "source": [
    "#https://www.tensorflow.org/tutorials/keras/basic_classification\n",
    "from __future__ import absolute_import, division, print_function\n",
    "\n",
    "# TensorFlow and tf.keras\n",
    "import tensorflow as tf\n",
    "from tensorflow import keras\n",
    "\n",
    "# Helper libraries\n",
    "import numpy as np\n",
    "%matplotlib inline\n",
    "import matplotlib.pyplot as plt\n",
    "#https://stackoverflow.com/questions/53014306/error-15-initializing-libiomp5-dylib-but-found-libiomp5-dylib-already-initial\n",
    "import os\n",
    "\n",
    "os.environ['KMP_DUPLICATE_LIB_OK']='True'\n",
    "\n",
    "print(tf.__version__)"
   ]
  },
  {
   "cell_type": "code",
   "execution_count": 2,
   "metadata": {},
   "outputs": [],
   "source": [
    "mnist = keras.datasets.mnist\n",
    "(train_images, train_labels), (test_images, test_labels) = mnist.load_data()\n",
    "\n",
    "train_images = train_images / 255.0\n",
    "test_images = test_images / 255.0\n",
    "train_data = []\n",
    "test_data = []"
   ]
  },
  {
   "cell_type": "code",
   "execution_count": 3,
   "metadata": {},
   "outputs": [],
   "source": [
    "#function to get data in\n",
    "def get_train_data():\n",
    "    tmp = []\n",
    "    for i in range(10):\n",
    "        c = 0\n",
    "        for index,x in enumerate(train_images):\n",
    "            ans = train_labels[index]\n",
    "            if ans == i:\n",
    "                if c < 100:\n",
    "                    tmp.append(x)\n",
    "                    c+=1\n",
    "    return tmp"
   ]
  },
  {
   "cell_type": "code",
   "execution_count": 4,
   "metadata": {},
   "outputs": [],
   "source": [
    "def train_labels_func():\n",
    "    new_train_labels = []\n",
    "    for i in range(10):\n",
    "        for x in range(100):\n",
    "            new_train_labels.append(i)\n",
    "    return new_train_labels"
   ]
  },
  {
   "cell_type": "code",
   "execution_count": 5,
   "metadata": {},
   "outputs": [],
   "source": [
    "def get_test_data():\n",
    "    tmp = []\n",
    "    for i in range(10):\n",
    "        c = 0\n",
    "        for index,x in enumerate(test_images):\n",
    "            ans = test_labels[index]\n",
    "            if ans == i:\n",
    "                if c < 100:\n",
    "                    tmp.append(x)\n",
    "                    c+=1\n",
    "    return tmp"
   ]
  },
  {
   "cell_type": "code",
   "execution_count": 6,
   "metadata": {},
   "outputs": [],
   "source": [
    "def test_labels_func():\n",
    "    new_test_labels = []\n",
    "    for i in range(10):\n",
    "        for x in range(100):\n",
    "            new_test_labels.append(i)\n",
    "    return new_test_labels"
   ]
  },
  {
   "cell_type": "code",
   "execution_count": 7,
   "metadata": {},
   "outputs": [],
   "source": [
    "for i in range(10):\n",
    "    train_data = (get_train_data())\n",
    "    test_data = (get_test_data())\n",
    "new_test_labels = test_labels_func()\n",
    "new_train_labels = train_labels_func()"
   ]
  },
  {
   "cell_type": "code",
   "execution_count": 8,
   "metadata": {},
   "outputs": [
    {
     "name": "stdout",
     "output_type": "stream",
     "text": [
      "1000 28\n",
      "1000 28\n",
      "1000 1000\n",
      "(1000, 28, 28)\n",
      "(1000, 28, 28)\n",
      "(1000,)\n",
      "(1000,)\n"
     ]
    }
   ],
   "source": [
    "#checking the format of the data so selected\n",
    "print(len(train_data),len(train_data[0]))\n",
    "print(len(test_data),len(test_data[0]))\n",
    "print(len(new_test_labels),len(new_train_labels))\n",
    "\n",
    "\n",
    "train_data = np.asarray(train_data)\n",
    "test_data = np.asarray(test_data)\n",
    "\n",
    "new_test_labels = np.asarray(new_test_labels)\n",
    "new_train_labels = np.asarray(new_train_labels)\n",
    "\n",
    "print(train_data.shape)\n",
    "print(test_data.shape)\n",
    "print(new_train_labels.shape)\n",
    "print(new_test_labels.shape)"
   ]
  },
  {
   "cell_type": "code",
   "execution_count": 9,
   "metadata": {},
   "outputs": [
    {
     "name": "stdout",
     "output_type": "stream",
     "text": [
      "[<tensorflow.python.keras.layers.core.Flatten object at 0xb446a2ac8>, <tensorflow.python.keras.layers.core.Dense object at 0xb446a2dd8>, <tensorflow.python.keras.layers.core.Dense object at 0xb446a2f98>, <tensorflow.python.keras.layers.core.Dense object at 0xb446af160>, <tensorflow.python.keras.layers.core.Dense object at 0xb446a2a90>]\n",
      "WARNING:tensorflow:From /anaconda3/lib/python3.7/site-packages/tensorflow/python/ops/resource_variable_ops.py:435: colocate_with (from tensorflow.python.framework.ops) is deprecated and will be removed in a future version.\n",
      "Instructions for updating:\n",
      "Colocations handled automatically by placer.\n",
      "Train on 1000 samples, validate on 1000 samples\n",
      "Epoch 1/30\n",
      "1000/1000 [==============================] - 1s 908us/sample - loss: 2.3350 - acc: 0.0970 - val_loss: 2.3145 - val_acc: 0.1000\n",
      "Epoch 2/30\n",
      "1000/1000 [==============================] - 0s 388us/sample - loss: 2.3236 - acc: 0.0950 - val_loss: 2.3104 - val_acc: 0.1000\n",
      "Epoch 3/30\n",
      "1000/1000 [==============================] - 0s 387us/sample - loss: 2.3192 - acc: 0.1060 - val_loss: 2.3084 - val_acc: 0.1000\n",
      "Epoch 4/30\n",
      "1000/1000 [==============================] - 1s 564us/sample - loss: 2.3194 - acc: 0.0970 - val_loss: 2.2953 - val_acc: 0.1030\n",
      "Epoch 5/30\n",
      "1000/1000 [==============================] - 0s 413us/sample - loss: 2.3036 - acc: 0.1080 - val_loss: 2.3027 - val_acc: 0.1000\n",
      "Epoch 6/30\n",
      "1000/1000 [==============================] - 0s 410us/sample - loss: 2.2980 - acc: 0.1120 - val_loss: 2.2782 - val_acc: 0.1000\n",
      "Epoch 7/30\n",
      "1000/1000 [==============================] - 0s 385us/sample - loss: 2.2765 - acc: 0.1370 - val_loss: 2.2554 - val_acc: 0.2690\n",
      "Epoch 8/30\n",
      "1000/1000 [==============================] - 0s 384us/sample - loss: 2.2490 - acc: 0.1520 - val_loss: 2.2286 - val_acc: 0.1740\n",
      "Epoch 9/30\n",
      "1000/1000 [==============================] - 1s 563us/sample - loss: 2.1822 - acc: 0.2100 - val_loss: 2.1569 - val_acc: 0.1820\n",
      "Epoch 10/30\n",
      "1000/1000 [==============================] - 0s 385us/sample - loss: 2.0761 - acc: 0.2460 - val_loss: 2.0181 - val_acc: 0.2400\n",
      "Epoch 11/30\n",
      "1000/1000 [==============================] - 0s 386us/sample - loss: 1.9414 - acc: 0.2700 - val_loss: 1.9051 - val_acc: 0.3340\n",
      "Epoch 12/30\n",
      "1000/1000 [==============================] - 0s 386us/sample - loss: 1.8372 - acc: 0.2970 - val_loss: 1.8224 - val_acc: 0.3460\n",
      "Epoch 13/30\n",
      "1000/1000 [==============================] - 0s 385us/sample - loss: 1.7499 - acc: 0.3490 - val_loss: 1.7564 - val_acc: 0.3390\n",
      "Epoch 14/30\n",
      "1000/1000 [==============================] - 1s 565us/sample - loss: 1.6699 - acc: 0.4070 - val_loss: 1.6794 - val_acc: 0.3990\n",
      "Epoch 15/30\n",
      "1000/1000 [==============================] - 0s 384us/sample - loss: 1.5816 - acc: 0.4140 - val_loss: 1.6056 - val_acc: 0.3560\n",
      "Epoch 16/30\n",
      "1000/1000 [==============================] - 0s 385us/sample - loss: 1.4811 - acc: 0.4720 - val_loss: 1.5326 - val_acc: 0.4360\n",
      "Epoch 17/30\n",
      "1000/1000 [==============================] - 0s 390us/sample - loss: 1.3864 - acc: 0.5110 - val_loss: 1.4392 - val_acc: 0.5150\n",
      "Epoch 18/30\n",
      "1000/1000 [==============================] - 0s 407us/sample - loss: 1.2951 - acc: 0.5590 - val_loss: 1.3767 - val_acc: 0.5140\n",
      "Epoch 19/30\n",
      "1000/1000 [==============================] - 1s 572us/sample - loss: 1.2217 - acc: 0.5740 - val_loss: 1.3284 - val_acc: 0.5370\n",
      "Epoch 20/30\n",
      "1000/1000 [==============================] - 0s 396us/sample - loss: 1.1528 - acc: 0.6280 - val_loss: 1.2793 - val_acc: 0.5690\n",
      "Epoch 21/30\n",
      "1000/1000 [==============================] - 0s 385us/sample - loss: 1.0885 - acc: 0.6440 - val_loss: 1.2399 - val_acc: 0.5680\n",
      "Epoch 22/30\n",
      "1000/1000 [==============================] - 0s 385us/sample - loss: 1.0299 - acc: 0.6770 - val_loss: 1.1940 - val_acc: 0.6200\n",
      "Epoch 23/30\n",
      "1000/1000 [==============================] - 0s 387us/sample - loss: 0.9668 - acc: 0.7000 - val_loss: 1.1369 - val_acc: 0.6450\n",
      "Epoch 24/30\n",
      "1000/1000 [==============================] - 1s 570us/sample - loss: 0.9021 - acc: 0.7400 - val_loss: 1.1060 - val_acc: 0.6430\n",
      "Epoch 25/30\n",
      "1000/1000 [==============================] - 0s 386us/sample - loss: 0.8345 - acc: 0.7840 - val_loss: 1.0491 - val_acc: 0.6660\n",
      "Epoch 26/30\n",
      "1000/1000 [==============================] - 0s 384us/sample - loss: 0.7771 - acc: 0.8040 - val_loss: 1.0174 - val_acc: 0.6720\n",
      "Epoch 27/30\n",
      "1000/1000 [==============================] - 0s 384us/sample - loss: 0.7213 - acc: 0.8150 - val_loss: 0.9865 - val_acc: 0.6800\n",
      "Epoch 28/30\n",
      "1000/1000 [==============================] - 0s 463us/sample - loss: 0.6741 - acc: 0.8380 - val_loss: 0.9663 - val_acc: 0.6890\n",
      "Epoch 29/30\n",
      "1000/1000 [==============================] - 0s 468us/sample - loss: 0.6271 - acc: 0.8420 - val_loss: 0.9514 - val_acc: 0.7020\n",
      "Epoch 30/30\n",
      "1000/1000 [==============================] - 0s 386us/sample - loss: 0.5873 - acc: 0.8560 - val_loss: 0.9016 - val_acc: 0.7180\n",
      "1000/1000 [==============================] - 0s 49us/sample - loss: 0.9016 - acc: 0.7180\n",
      "1000/1000 [==============================] - 0s 51us/sample - loss: 0.5345 - acc: 0.8790\n",
      "Test accuracy: 0.718\n",
      "Train accuracy: 0.879\n"
     ]
    }
   ],
   "source": [
    "#defining parameters\n",
    "learning_rate = 0.1\n",
    "batch_size = 10\n",
    "softmax_nodes = 10\n",
    "epochs = 30\n",
    "sigmoid_nodes = 30\n",
    "layers = 3\n",
    "l2 = 0\n",
    "\n",
    "model_data = [\n",
    "keras.layers.Flatten(input_shape=(28, 28)),\n",
    "keras.layers.Dense(sigmoid_nodes,activation=tf.nn.sigmoid,kernel_regularizer=keras.regularizers.l2(l2)),\n",
    "keras.layers.Dense(sigmoid_nodes, activation=tf.nn.sigmoid),\n",
    "keras.layers.Dense(sigmoid_nodes, activation=tf.nn.sigmoid)\n",
    "]\n",
    "\n",
    "model_data.append(keras.layers.Dense(softmax_nodes, activation=tf.nn.softmax))\n",
    "print(model_data)\n",
    "model = keras.Sequential(model_data)\n",
    "\n",
    "optimizer = tf.train.GradientDescentOptimizer(learning_rate=learning_rate)\n",
    "model.compile(optimizer,loss='sparse_categorical_crossentropy',metrics=['accuracy'])\n",
    "\n",
    "ans = model.fit(train_data, new_train_labels,validation_data=(test_data, new_test_labels), epochs=epochs,batch_size = batch_size)\n",
    "\n",
    "test_loss, test_acc = model.evaluate(test_data, new_test_labels)\n",
    "train_loss, train_acc = model.evaluate(train_data, new_train_labels)\n",
    "\n",
    "print('Test accuracy:', test_acc)\n",
    "print('Train accuracy:', train_acc)\n"
   ]
  },
  {
   "cell_type": "code",
   "execution_count": 10,
   "metadata": {},
   "outputs": [
    {
     "data": {
      "image/png": "[encoded data removed]",
      "text/plain": [
       "<Figure size 432x288 with 1 Axes>"
      ]
     },
     "metadata": {
      "needs_background": "light"
     },
     "output_type": "display_data"
    },
    {
     "data": {
      "image/png": "[encoded data removed]",
      "text/plain": [
       "<Figure size 432x288 with 1 Axes>"
      ]
     },
     "metadata": {
      "needs_background": "light"
     },
     "output_type": "display_data"
    }
   ],
   "source": [
    "plt.plot(ans.history['acc'])\n",
    "plt.plot(ans.history['val_acc'])\n",
    "plt.title(' Training/testing data accuracy')\n",
    "plt.ylabel('accuracy')\n",
    "plt.xlabel('epoch')\n",
    "plt.legend(['train', 'test'], loc='upper left')\n",
    "plt.show()\n",
    "#summarize history for loss\n",
    "plt.plot(ans.history['loss'])\n",
    "plt.plot(ans.history['val_loss'])\n",
    "plt.title('criterion function on training/testing data set')\n",
    "plt.ylabel('loss')\n",
    "plt.xlabel('epoch')\n",
    "plt.legend(['train', 'test'], loc='upper left')\n",
    "plt.show()"
   ]
  }
 ],
 "metadata": {
  "kernelspec": {
   "display_name": "Python 3",
   "language": "python",
   "name": "python3"
  },
  "language_info": {
   "codemirror_mode": {
    "name": "ipython",
    "version": 3
   },
   "file_extension": ".py",
   "mimetype": "text/x-python",
   "name": "python",
   "nbconvert_exporter": "python",
   "pygments_lexer": "ipython3",
   "version": "3.7.1"
  }
 },
 "nbformat": 4,
 "nbformat_minor": 2
}
